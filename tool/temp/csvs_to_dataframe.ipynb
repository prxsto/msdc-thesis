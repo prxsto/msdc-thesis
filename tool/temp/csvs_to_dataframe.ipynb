{
 "cells": [
  {
   "cell_type": "code",
   "execution_count": 43,
   "metadata": {},
   "outputs": [
    {
     "data": {
      "text/plain": [
       "<bound method NDFrame.head of Empty DataFrame\n",
       "Columns: []\n",
       "Index: []>"
      ]
     },
     "execution_count": 43,
     "metadata": {},
     "output_type": "execute_result"
    }
   ],
   "source": [
    "import pandas as pd\n",
    "import os\n",
    "import glob\n",
    "\n",
    "path = os.getcwd()\n",
    "# \"C:\\Users\\papep\\Documents\\GitHub\\msdc-thesis\\tool\\temp\"\n",
    "\n",
    "# def csvToDataframe(path):\n",
    "\n",
    "all_files = glob.glob(os.path.join(path, \"*.csv\"))\n",
    "# all_files[1]\n",
    "# df = pd.read_csv(all_files[1])\n",
    "# df\n",
    "df = pd.read_csv(all_files[0])\n",
    "for f in all_files:\n",
    "    df_ = pd.read_csv(f+1)\n",
    "    df.append(df_, ignore_index=True)\n",
    "df.head\n",
    "    \n",
    "# df = pd.concat(\n",
    "#     map(pd.read_csv, all_files), ignore_index=False)\n",
    "# df_from_each_file = (pd.read_csv(f, sep=',') for f in all_files)\n",
    "# df_merged = pd.concat(df_from_each_file, ignore_index=True)\n",
    "# df_merged.to_csv(\"merged.csv\")\n",
    "\n",
    "# all_files = glob.glob(os.path.join(path, \"*.csv\"))\n",
    "# df_from_each_file = (pd.read_csv(f, sep=',') for f in all_files)\n",
    "# df = pd.DataFrame()\n",
    "# for f in all_files:\n",
    "#     df_ = pd.read_csv(f, sep=',')\n",
    "#     df.append(df_)\n",
    "# df.columns = ['filename', 'site', 'size', 'footprint', 'height', 'num_stories', 'num_units', 'num_adiabatic', 'inf_rate',\n",
    "#                      'orientation', 'wwr', 'frame', 'polyiso_t', 'cellulose_t', 'setback', 'rear_setback', 'side_setback',\n",
    "#                      'structure_setback', 'assembly_r', 'area_buildable', 'surf_area', 'volume', 'surf_vol_ratio', 'cooling',\n",
    "#                      'heating', 'lighting', 'equipment', 'water', 'eui_kwh', 'eui_kbtu', 'carbon', 'kg_CO2e']\n",
    "# df_merged = pd.concat(df_from_each_file, ignore_index=True)\n",
    "# df = pd.concat((pd.read_csv(f) for f in all_files), ignore_index=True)\n",
    "\n",
    "    # return df\n",
    "\n",
    "# csvToDataframe(path).shape\n",
    "\n",
    "# os.getcwd()\n"
   ]
  }
 ],
 "metadata": {
  "interpreter": {
   "hash": "b68dc91199b9b970853e861d52d9d20db99909a7ab8b593adc8e9c4391564e51"
  },
  "kernelspec": {
   "display_name": "Python 3.8.12 ('research')",
   "language": "python",
   "name": "python3"
  },
  "language_info": {
   "codemirror_mode": {
    "name": "ipython",
    "version": 3
   },
   "file_extension": ".py",
   "mimetype": "text/x-python",
   "name": "python",
   "nbconvert_exporter": "python",
   "pygments_lexer": "ipython3",
   "version": "3.8.12"
  },
  "orig_nbformat": 4
 },
 "nbformat": 4,
 "nbformat_minor": 2
}
